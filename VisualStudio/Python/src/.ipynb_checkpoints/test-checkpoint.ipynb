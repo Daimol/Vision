{
 "cells": [
  {
   "cell_type": "code",
   "execution_count": 1,
   "metadata": {
    "tags": []
   },
   "outputs": [
    {
     "name": "stdout",
     "output_type": "stream",
     "text": [
      "The Moon has no atmosphere. No sound can be heard on the Moon.\n"
     ]
    }
   ],
   "source": [
    "fact = \"The Moon has no atmosphere.\"\n",
    "two_facts = fact + \" No sound can be heard on the Moon.\"\n",
    "\n",
    "print(two_facts)"
   ]
  },
  {
   "cell_type": "code",
   "execution_count": 10,
   "metadata": {},
   "outputs": [
    {
     "name": "stdout",
     "output_type": "stream",
     "text": [
      "The Moon has no atmosphere. No sound can be heard on the Moon.\n"
     ]
    }
   ],
   "source": [
    "\n",
    "fact = \"The Moon has no atmosphere.\"\n",
    "two_facts = fact + \" No sound can be heard on the Moon.\"\n",
    "\n",
    "print(two_facts)\n",
    "\n"
   ]
  }
 ],
 "metadata": {
  "kernelspec": {
   "display_name": "Python 3 (ipykernel)",
   "language": "python",
   "name": "python3"
  },
  "language_info": {
   "codemirror_mode": {
    "name": "ipython",
    "version": 3
   },
   "file_extension": ".py",
   "mimetype": "text/x-python",
   "name": "python",
   "nbconvert_exporter": "python",
   "pygments_lexer": "ipython3",
   "version": "3.10.10"
  },
  "vscode": {
   "interpreter": {
    "hash": "8680908a3d75e64ef947a120fb943456b2d2fbc64693c93a6ab0d591eceebc57"
   }
  }
 },
 "nbformat": 4,
 "nbformat_minor": 4
}
